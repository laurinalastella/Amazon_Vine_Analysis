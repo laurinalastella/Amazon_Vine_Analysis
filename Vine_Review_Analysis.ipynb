{
 "cells": [
  {
   "cell_type": "code",
   "execution_count": 1,
   "id": "1a97ea4a",
   "metadata": {},
   "outputs": [],
   "source": [
    "import pandas as pd"
   ]
  },
  {
   "cell_type": "markdown",
   "id": "649c6df0",
   "metadata": {},
   "source": [
    "### Read in CSV."
   ]
  },
  {
   "cell_type": "code",
   "execution_count": 2,
   "id": "0b8d6c84",
   "metadata": {},
   "outputs": [
    {
     "data": {
      "text/html": [
       "<div>\n",
       "<style scoped>\n",
       "    .dataframe tbody tr th:only-of-type {\n",
       "        vertical-align: middle;\n",
       "    }\n",
       "\n",
       "    .dataframe tbody tr th {\n",
       "        vertical-align: top;\n",
       "    }\n",
       "\n",
       "    .dataframe thead th {\n",
       "        text-align: right;\n",
       "    }\n",
       "</style>\n",
       "<table border=\"1\" class=\"dataframe\">\n",
       "  <thead>\n",
       "    <tr style=\"text-align: right;\">\n",
       "      <th></th>\n",
       "      <th>review_id</th>\n",
       "      <th>star_rating</th>\n",
       "      <th>helpful_votes</th>\n",
       "      <th>total_votes</th>\n",
       "      <th>vine</th>\n",
       "      <th>verified_purchase</th>\n",
       "    </tr>\n",
       "  </thead>\n",
       "  <tbody>\n",
       "    <tr>\n",
       "      <th>0</th>\n",
       "      <td>RTIS3L2M1F5SM</td>\n",
       "      <td>5</td>\n",
       "      <td>0</td>\n",
       "      <td>0</td>\n",
       "      <td>N</td>\n",
       "      <td>Y</td>\n",
       "    </tr>\n",
       "    <tr>\n",
       "      <th>1</th>\n",
       "      <td>R1ZV7R40OLHKD</td>\n",
       "      <td>5</td>\n",
       "      <td>0</td>\n",
       "      <td>0</td>\n",
       "      <td>N</td>\n",
       "      <td>Y</td>\n",
       "    </tr>\n",
       "    <tr>\n",
       "      <th>2</th>\n",
       "      <td>R3BH071QLH8QMC</td>\n",
       "      <td>1</td>\n",
       "      <td>0</td>\n",
       "      <td>1</td>\n",
       "      <td>N</td>\n",
       "      <td>Y</td>\n",
       "    </tr>\n",
       "    <tr>\n",
       "      <th>3</th>\n",
       "      <td>R127K9NTSXA2YH</td>\n",
       "      <td>3</td>\n",
       "      <td>0</td>\n",
       "      <td>0</td>\n",
       "      <td>N</td>\n",
       "      <td>Y</td>\n",
       "    </tr>\n",
       "    <tr>\n",
       "      <th>4</th>\n",
       "      <td>R32ZWUXDJPW27Q</td>\n",
       "      <td>4</td>\n",
       "      <td>0</td>\n",
       "      <td>0</td>\n",
       "      <td>N</td>\n",
       "      <td>Y</td>\n",
       "    </tr>\n",
       "    <tr>\n",
       "      <th>...</th>\n",
       "      <td>...</td>\n",
       "      <td>...</td>\n",
       "      <td>...</td>\n",
       "      <td>...</td>\n",
       "      <td>...</td>\n",
       "      <td>...</td>\n",
       "    </tr>\n",
       "    <tr>\n",
       "      <th>1785992</th>\n",
       "      <td>RPC430LWZJ60T</td>\n",
       "      <td>5</td>\n",
       "      <td>1</td>\n",
       "      <td>1</td>\n",
       "      <td>N</td>\n",
       "      <td>N</td>\n",
       "    </tr>\n",
       "    <tr>\n",
       "      <th>1785993</th>\n",
       "      <td>R347MZT5FH6HRJ</td>\n",
       "      <td>5</td>\n",
       "      <td>2</td>\n",
       "      <td>2</td>\n",
       "      <td>N</td>\n",
       "      <td>N</td>\n",
       "    </tr>\n",
       "    <tr>\n",
       "      <th>1785994</th>\n",
       "      <td>RJ5BETZP0VIUS</td>\n",
       "      <td>1</td>\n",
       "      <td>0</td>\n",
       "      <td>2</td>\n",
       "      <td>N</td>\n",
       "      <td>N</td>\n",
       "    </tr>\n",
       "    <tr>\n",
       "      <th>1785995</th>\n",
       "      <td>R85QTDO2KZMGO</td>\n",
       "      <td>1</td>\n",
       "      <td>1</td>\n",
       "      <td>3</td>\n",
       "      <td>N</td>\n",
       "      <td>N</td>\n",
       "    </tr>\n",
       "    <tr>\n",
       "      <th>1785996</th>\n",
       "      <td>R2W36RZZZNTYWF</td>\n",
       "      <td>5</td>\n",
       "      <td>1</td>\n",
       "      <td>1</td>\n",
       "      <td>N</td>\n",
       "      <td>N</td>\n",
       "    </tr>\n",
       "  </tbody>\n",
       "</table>\n",
       "<p>1785997 rows × 6 columns</p>\n",
       "</div>"
      ],
      "text/plain": [
       "              review_id  star_rating  helpful_votes  total_votes vine  \\\n",
       "0         RTIS3L2M1F5SM            5              0            0    N   \n",
       "1         R1ZV7R40OLHKD            5              0            0    N   \n",
       "2        R3BH071QLH8QMC            1              0            1    N   \n",
       "3        R127K9NTSXA2YH            3              0            0    N   \n",
       "4        R32ZWUXDJPW27Q            4              0            0    N   \n",
       "...                 ...          ...            ...          ...  ...   \n",
       "1785992   RPC430LWZJ60T            5              1            1    N   \n",
       "1785993  R347MZT5FH6HRJ            5              2            2    N   \n",
       "1785994   RJ5BETZP0VIUS            1              0            2    N   \n",
       "1785995   R85QTDO2KZMGO            1              1            3    N   \n",
       "1785996  R2W36RZZZNTYWF            5              1            1    N   \n",
       "\n",
       "        verified_purchase  \n",
       "0                       Y  \n",
       "1                       Y  \n",
       "2                       Y  \n",
       "3                       Y  \n",
       "4                       Y  \n",
       "...                   ...  \n",
       "1785992                 N  \n",
       "1785993                 N  \n",
       "1785994                 N  \n",
       "1785995                 N  \n",
       "1785996                 N  \n",
       "\n",
       "[1785997 rows x 6 columns]"
      ]
     },
     "execution_count": 2,
     "metadata": {},
     "output_type": "execute_result"
    }
   ],
   "source": [
    "# 1. Create a df from the vine table from Amazon_Vine_Analysis.\n",
    "# vine_table.csv\n",
    "vine_data_to_load = \"vine_table.csv\"\n",
    "vine_df = pd.read_csv(vine_data_to_load)\n",
    "vine_df"
   ]
  },
  {
   "cell_type": "markdown",
   "id": "82c4a72b",
   "metadata": {},
   "source": [
    "<!-- Verify that there are Vine reviews in CSV. -->"
   ]
  },
  {
   "cell_type": "code",
   "execution_count": 3,
   "id": "f78d6ea1",
   "metadata": {},
   "outputs": [],
   "source": [
    "# Groupby to verify that values contain \"Y\"\n",
    "# vine_df.groupby(['vine'])['vine'].count()"
   ]
  },
  {
   "cell_type": "markdown",
   "id": "eef03c16",
   "metadata": {},
   "source": [
    "## Apply universal filters, before splitting into Yes/No for Vine reviews."
   ]
  },
  {
   "cell_type": "markdown",
   "id": "4ea3cf05",
   "metadata": {},
   "source": [
    "### Total Votes >= 20"
   ]
  },
  {
   "cell_type": "code",
   "execution_count": 4,
   "id": "1bc9ba20",
   "metadata": {},
   "outputs": [],
   "source": [
    "# Filter rows: total_votes >= 20\n",
    "vine_df_gt20votes = vine_df[vine_df['total_votes'] >= 20]\n",
    "# vine_df_gt20votes"
   ]
  },
  {
   "cell_type": "code",
   "execution_count": 5,
   "id": "f88294d3",
   "metadata": {},
   "outputs": [
    {
     "data": {
      "text/plain": [
       "total_votes\n",
       "20    4226\n",
       "21    3898\n",
       "22    3544\n",
       "23    3203\n",
       "24    2933\n",
       "Name: total_votes, dtype: int64"
      ]
     },
     "execution_count": 5,
     "metadata": {},
     "output_type": "execute_result"
    }
   ],
   "source": [
    "# Groupby to verify that all values meet criteria.\n",
    "vine_df_gt20votes.groupby(['total_votes'])['total_votes'].count().head()"
   ]
  },
  {
   "cell_type": "markdown",
   "id": "589d0d89",
   "metadata": {},
   "source": [
    "### % of Helpful Votes."
   ]
  },
  {
   "cell_type": "code",
   "execution_count": 6,
   "id": "43736fc5",
   "metadata": {},
   "outputs": [],
   "source": [
    "# Assign new calculated column: % of helpful_votes\n",
    "vine_df_helpful = vine_df_gt20votes.assign(helpful_perc = vine_df_gt20votes['helpful_votes'] / vine_df_gt20votes['total_votes'])\n",
    "# vine_df_helpful"
   ]
  },
  {
   "cell_type": "code",
   "execution_count": 7,
   "id": "5ca51620",
   "metadata": {
    "scrolled": true
   },
   "outputs": [],
   "source": [
    "# Filter rows: % of helpful_votes >= 50%\n",
    "vine_df_helpful_gt50perc = vine_df_helpful[vine_df_helpful['helpful_perc'] > 0.5]"
   ]
  },
  {
   "cell_type": "code",
   "execution_count": 8,
   "id": "f82d4fee",
   "metadata": {},
   "outputs": [
    {
     "data": {
      "text/plain": [
       "helpful_perc\n",
       "0.504425    1\n",
       "0.505263    1\n",
       "0.505747    1\n",
       "0.506098    1\n",
       "0.506329    2\n",
       "Name: helpful_perc, dtype: int64"
      ]
     },
     "execution_count": 8,
     "metadata": {},
     "output_type": "execute_result"
    }
   ],
   "source": [
    "# Groupby to verify that all values meet criteria.\n",
    "vine_df_helpful_gt50perc.groupby(['helpful_perc'])['helpful_perc'].count().head()"
   ]
  },
  {
   "cell_type": "code",
   "execution_count": 9,
   "id": "9c8d7e5c",
   "metadata": {},
   "outputs": [
    {
     "data": {
      "text/html": [
       "<div>\n",
       "<style scoped>\n",
       "    .dataframe tbody tr th:only-of-type {\n",
       "        vertical-align: middle;\n",
       "    }\n",
       "\n",
       "    .dataframe tbody tr th {\n",
       "        vertical-align: top;\n",
       "    }\n",
       "\n",
       "    .dataframe thead th {\n",
       "        text-align: right;\n",
       "    }\n",
       "</style>\n",
       "<table border=\"1\" class=\"dataframe\">\n",
       "  <thead>\n",
       "    <tr style=\"text-align: right;\">\n",
       "      <th></th>\n",
       "      <th>review_id</th>\n",
       "      <th>star_rating</th>\n",
       "      <th>helpful_votes</th>\n",
       "      <th>total_votes</th>\n",
       "      <th>vine</th>\n",
       "      <th>verified_purchase</th>\n",
       "      <th>helpful_perc</th>\n",
       "    </tr>\n",
       "  </thead>\n",
       "  <tbody>\n",
       "    <tr>\n",
       "      <th>55</th>\n",
       "      <td>R4PKAZRQJJX14</td>\n",
       "      <td>1</td>\n",
       "      <td>21</td>\n",
       "      <td>34</td>\n",
       "      <td>N</td>\n",
       "      <td>N</td>\n",
       "      <td>0.617647</td>\n",
       "    </tr>\n",
       "    <tr>\n",
       "      <th>74</th>\n",
       "      <td>R2CI0Y288CC7E2</td>\n",
       "      <td>1</td>\n",
       "      <td>21</td>\n",
       "      <td>35</td>\n",
       "      <td>N</td>\n",
       "      <td>Y</td>\n",
       "      <td>0.600000</td>\n",
       "    </tr>\n",
       "    <tr>\n",
       "      <th>209</th>\n",
       "      <td>R127WEQY2FM1T3</td>\n",
       "      <td>1</td>\n",
       "      <td>147</td>\n",
       "      <td>175</td>\n",
       "      <td>N</td>\n",
       "      <td>Y</td>\n",
       "      <td>0.840000</td>\n",
       "    </tr>\n",
       "    <tr>\n",
       "      <th>483</th>\n",
       "      <td>R2FJ94555FZH32</td>\n",
       "      <td>2</td>\n",
       "      <td>55</td>\n",
       "      <td>60</td>\n",
       "      <td>N</td>\n",
       "      <td>N</td>\n",
       "      <td>0.916667</td>\n",
       "    </tr>\n",
       "    <tr>\n",
       "      <th>537</th>\n",
       "      <td>R1U3AR67RE273L</td>\n",
       "      <td>1</td>\n",
       "      <td>51</td>\n",
       "      <td>65</td>\n",
       "      <td>N</td>\n",
       "      <td>Y</td>\n",
       "      <td>0.784615</td>\n",
       "    </tr>\n",
       "  </tbody>\n",
       "</table>\n",
       "</div>"
      ],
      "text/plain": [
       "          review_id  star_rating  helpful_votes  total_votes vine  \\\n",
       "55    R4PKAZRQJJX14            1             21           34    N   \n",
       "74   R2CI0Y288CC7E2            1             21           35    N   \n",
       "209  R127WEQY2FM1T3            1            147          175    N   \n",
       "483  R2FJ94555FZH32            2             55           60    N   \n",
       "537  R1U3AR67RE273L            1             51           65    N   \n",
       "\n",
       "    verified_purchase  helpful_perc  \n",
       "55                  N      0.617647  \n",
       "74                  Y      0.600000  \n",
       "209                 Y      0.840000  \n",
       "483                 N      0.916667  \n",
       "537                 Y      0.784615  "
      ]
     },
     "execution_count": 9,
     "metadata": {},
     "output_type": "execute_result"
    }
   ],
   "source": [
    "vine_df_helpful_gt50perc.head()"
   ]
  },
  {
   "cell_type": "markdown",
   "id": "8982cd1c",
   "metadata": {},
   "source": [
    "## Split into Yes/No for Vine reviews."
   ]
  },
  {
   "cell_type": "markdown",
   "id": "c4a1a3dd",
   "metadata": {},
   "source": [
    "## Vine = Yes"
   ]
  },
  {
   "cell_type": "code",
   "execution_count": 10,
   "id": "ef4d8dec",
   "metadata": {},
   "outputs": [
    {
     "name": "stderr",
     "output_type": "stream",
     "text": [
      "C:\\Users\\LaStella\\AppData\\Local\\Temp\\ipykernel_12784\\3829734516.py:2: UserWarning: Boolean Series key will be reindexed to match DataFrame index.\n",
      "  y_df = vine_df_helpful_gt50perc[vine_df['vine'] == \"Y\"]\n"
     ]
    }
   ],
   "source": [
    "# Filter rows: vine == 'Y'\n",
    "y_df = vine_df_helpful_gt50perc[vine_df['vine'] == \"Y\"]"
   ]
  },
  {
   "cell_type": "code",
   "execution_count": 11,
   "id": "8af8b642",
   "metadata": {},
   "outputs": [
    {
     "data": {
      "text/plain": [
       "vine\n",
       "Y    94\n",
       "Name: vine, dtype: int64"
      ]
     },
     "execution_count": 11,
     "metadata": {},
     "output_type": "execute_result"
    }
   ],
   "source": [
    "# Groupby to verify that all values meet criteria.\n",
    "y_df.groupby(['vine'])['vine'].count()"
   ]
  },
  {
   "cell_type": "markdown",
   "id": "35fc9e07",
   "metadata": {},
   "source": [
    "### Vine = Yes:  Get sum of total votes."
   ]
  },
  {
   "cell_type": "code",
   "execution_count": 12,
   "id": "7475108b",
   "metadata": {},
   "outputs": [],
   "source": [
    "# https://stackoverflow.com/questions/10373660/converting-a-pandas-groupby-output-from-series-to-dataframe\n",
    "# df1.reset_index().groupby( [ \"Name\", \"City\"],as_index=False ).count()\n",
    "y_df_tot = y_df.reset_index().groupby( [ \"vine\"],as_index=False ).count()"
   ]
  },
  {
   "cell_type": "code",
   "execution_count": 13,
   "id": "897d5960",
   "metadata": {},
   "outputs": [
    {
     "data": {
      "text/html": [
       "<div>\n",
       "<style scoped>\n",
       "    .dataframe tbody tr th:only-of-type {\n",
       "        vertical-align: middle;\n",
       "    }\n",
       "\n",
       "    .dataframe tbody tr th {\n",
       "        vertical-align: top;\n",
       "    }\n",
       "\n",
       "    .dataframe thead th {\n",
       "        text-align: right;\n",
       "    }\n",
       "</style>\n",
       "<table border=\"1\" class=\"dataframe\">\n",
       "  <thead>\n",
       "    <tr style=\"text-align: right;\">\n",
       "      <th></th>\n",
       "      <th>vine</th>\n",
       "      <th>index</th>\n",
       "      <th>review_id</th>\n",
       "      <th>star_rating</th>\n",
       "      <th>helpful_votes</th>\n",
       "      <th>total_votes</th>\n",
       "      <th>verified_purchase</th>\n",
       "      <th>helpful_perc</th>\n",
       "    </tr>\n",
       "  </thead>\n",
       "  <tbody>\n",
       "    <tr>\n",
       "      <th>0</th>\n",
       "      <td>Y</td>\n",
       "      <td>94</td>\n",
       "      <td>94</td>\n",
       "      <td>94</td>\n",
       "      <td>94</td>\n",
       "      <td>94</td>\n",
       "      <td>94</td>\n",
       "      <td>94</td>\n",
       "    </tr>\n",
       "  </tbody>\n",
       "</table>\n",
       "</div>"
      ],
      "text/plain": [
       "  vine  index  review_id  star_rating  helpful_votes  total_votes  \\\n",
       "0    Y     94         94           94             94           94   \n",
       "\n",
       "   verified_purchase  helpful_perc  \n",
       "0                 94            94  "
      ]
     },
     "execution_count": 13,
     "metadata": {},
     "output_type": "execute_result"
    }
   ],
   "source": [
    "y_df_tot.head()"
   ]
  },
  {
   "cell_type": "code",
   "execution_count": 14,
   "id": "41689870",
   "metadata": {},
   "outputs": [],
   "source": [
    "# https://pandas.pydata.org/docs/reference/api/pandas.DataFrame.filter.html\n",
    "# select columns by name\n",
    "y_df_tot = y_df_tot.filter(items=['vine', 'total_votes'])"
   ]
  },
  {
   "cell_type": "code",
   "execution_count": 15,
   "id": "94756437",
   "metadata": {},
   "outputs": [
    {
     "data": {
      "text/html": [
       "<div>\n",
       "<style scoped>\n",
       "    .dataframe tbody tr th:only-of-type {\n",
       "        vertical-align: middle;\n",
       "    }\n",
       "\n",
       "    .dataframe tbody tr th {\n",
       "        vertical-align: top;\n",
       "    }\n",
       "\n",
       "    .dataframe thead th {\n",
       "        text-align: right;\n",
       "    }\n",
       "</style>\n",
       "<table border=\"1\" class=\"dataframe\">\n",
       "  <thead>\n",
       "    <tr style=\"text-align: right;\">\n",
       "      <th></th>\n",
       "      <th>vine</th>\n",
       "      <th>total_votes</th>\n",
       "    </tr>\n",
       "  </thead>\n",
       "  <tbody>\n",
       "    <tr>\n",
       "      <th>0</th>\n",
       "      <td>Y</td>\n",
       "      <td>94</td>\n",
       "    </tr>\n",
       "  </tbody>\n",
       "</table>\n",
       "</div>"
      ],
      "text/plain": [
       "  vine  total_votes\n",
       "0    Y           94"
      ]
     },
     "execution_count": 15,
     "metadata": {},
     "output_type": "execute_result"
    }
   ],
   "source": [
    "y_df_tot"
   ]
  },
  {
   "cell_type": "markdown",
   "id": "30ae2737",
   "metadata": {},
   "source": [
    "### Vine = Yes: Get sum of 5-star votes."
   ]
  },
  {
   "cell_type": "code",
   "execution_count": 16,
   "id": "fb354fd3",
   "metadata": {},
   "outputs": [],
   "source": [
    "# Filter rows: star_rating = 5\n",
    "y_df_5star = y_df[y_df['star_rating'] == 5]"
   ]
  },
  {
   "cell_type": "code",
   "execution_count": 17,
   "id": "aa3f9e3e",
   "metadata": {},
   "outputs": [
    {
     "data": {
      "text/plain": [
       "star_rating\n",
       "5    48\n",
       "Name: star_rating, dtype: int64"
      ]
     },
     "execution_count": 17,
     "metadata": {},
     "output_type": "execute_result"
    }
   ],
   "source": [
    "# Groupby to verify that all values meet criteria.\n",
    "y_df_5star.groupby(['star_rating'])['star_rating'].count()"
   ]
  },
  {
   "cell_type": "code",
   "execution_count": 18,
   "id": "6fb2d3a0",
   "metadata": {},
   "outputs": [],
   "source": [
    "# https://stackoverflow.com/questions/10373660/converting-a-pandas-groupby-output-from-series-to-dataframe\n",
    "# df1.reset_index().groupby( [ \"Name\", \"City\"],as_index=False ).count()\n",
    "y_df_5star = y_df_5star.reset_index().groupby( [ \"vine\"],as_index=False ).count()"
   ]
  },
  {
   "cell_type": "code",
   "execution_count": 19,
   "id": "d8269900",
   "metadata": {},
   "outputs": [],
   "source": [
    "# https://pandas.pydata.org/docs/reference/api/pandas.DataFrame.filter.html\n",
    "# select columns by name\n",
    "y_df_5star = y_df_5star.filter(items=['vine', 'helpful_perc'])"
   ]
  },
  {
   "cell_type": "code",
   "execution_count": 20,
   "id": "7535c57d",
   "metadata": {},
   "outputs": [
    {
     "data": {
      "text/html": [
       "<div>\n",
       "<style scoped>\n",
       "    .dataframe tbody tr th:only-of-type {\n",
       "        vertical-align: middle;\n",
       "    }\n",
       "\n",
       "    .dataframe tbody tr th {\n",
       "        vertical-align: top;\n",
       "    }\n",
       "\n",
       "    .dataframe thead th {\n",
       "        text-align: right;\n",
       "    }\n",
       "</style>\n",
       "<table border=\"1\" class=\"dataframe\">\n",
       "  <thead>\n",
       "    <tr style=\"text-align: right;\">\n",
       "      <th></th>\n",
       "      <th>vine</th>\n",
       "      <th>helpful_perc</th>\n",
       "    </tr>\n",
       "  </thead>\n",
       "  <tbody>\n",
       "    <tr>\n",
       "      <th>0</th>\n",
       "      <td>Y</td>\n",
       "      <td>48</td>\n",
       "    </tr>\n",
       "  </tbody>\n",
       "</table>\n",
       "</div>"
      ],
      "text/plain": [
       "  vine  helpful_perc\n",
       "0    Y            48"
      ]
     },
     "execution_count": 20,
     "metadata": {},
     "output_type": "execute_result"
    }
   ],
   "source": [
    "y_df_5star"
   ]
  },
  {
   "cell_type": "markdown",
   "id": "dfcf6c9e",
   "metadata": {},
   "source": [
    "### Vine = Yes: Merge dfs."
   ]
  },
  {
   "cell_type": "code",
   "execution_count": 21,
   "id": "458aa836",
   "metadata": {},
   "outputs": [],
   "source": [
    "y_df_merge = pd.merge(y_df_tot, y_df_5star, on=\"vine\")"
   ]
  },
  {
   "cell_type": "code",
   "execution_count": 22,
   "id": "7e9ecae5",
   "metadata": {},
   "outputs": [
    {
     "data": {
      "text/html": [
       "<div>\n",
       "<style scoped>\n",
       "    .dataframe tbody tr th:only-of-type {\n",
       "        vertical-align: middle;\n",
       "    }\n",
       "\n",
       "    .dataframe tbody tr th {\n",
       "        vertical-align: top;\n",
       "    }\n",
       "\n",
       "    .dataframe thead th {\n",
       "        text-align: right;\n",
       "    }\n",
       "</style>\n",
       "<table border=\"1\" class=\"dataframe\">\n",
       "  <thead>\n",
       "    <tr style=\"text-align: right;\">\n",
       "      <th></th>\n",
       "      <th>vine</th>\n",
       "      <th>total_votes</th>\n",
       "      <th>helpful_perc</th>\n",
       "    </tr>\n",
       "  </thead>\n",
       "  <tbody>\n",
       "    <tr>\n",
       "      <th>0</th>\n",
       "      <td>Y</td>\n",
       "      <td>94</td>\n",
       "      <td>48</td>\n",
       "    </tr>\n",
       "  </tbody>\n",
       "</table>\n",
       "</div>"
      ],
      "text/plain": [
       "  vine  total_votes  helpful_perc\n",
       "0    Y           94            48"
      ]
     },
     "execution_count": 22,
     "metadata": {},
     "output_type": "execute_result"
    }
   ],
   "source": [
    "y_df_merge"
   ]
  },
  {
   "cell_type": "code",
   "execution_count": 23,
   "id": "425155f3",
   "metadata": {},
   "outputs": [],
   "source": [
    "# Assign new calculated column: % of 5-star reviews.\n",
    "y_nums = y_df_merge.assign(percent_5star = (y_df_merge['helpful_perc'] / y_df_merge['total_votes']) * 100)"
   ]
  },
  {
   "cell_type": "code",
   "execution_count": 48,
   "id": "34ebf24f",
   "metadata": {},
   "outputs": [],
   "source": [
    "y_nums_fin = y_nums.rename(columns={\"total_votes\": \"total_reviews\", \"helpful_perc\": \"5star_reviews\"})"
   ]
  },
  {
   "cell_type": "code",
   "execution_count": 49,
   "id": "7065480e",
   "metadata": {},
   "outputs": [
    {
     "data": {
      "text/html": [
       "<div>\n",
       "<style scoped>\n",
       "    .dataframe tbody tr th:only-of-type {\n",
       "        vertical-align: middle;\n",
       "    }\n",
       "\n",
       "    .dataframe tbody tr th {\n",
       "        vertical-align: top;\n",
       "    }\n",
       "\n",
       "    .dataframe thead th {\n",
       "        text-align: right;\n",
       "    }\n",
       "</style>\n",
       "<table border=\"1\" class=\"dataframe\">\n",
       "  <thead>\n",
       "    <tr style=\"text-align: right;\">\n",
       "      <th></th>\n",
       "      <th>vine</th>\n",
       "      <th>total_reviews</th>\n",
       "      <th>5star_reviews</th>\n",
       "      <th>percent_5star</th>\n",
       "    </tr>\n",
       "  </thead>\n",
       "  <tbody>\n",
       "    <tr>\n",
       "      <th>0</th>\n",
       "      <td>Y</td>\n",
       "      <td>94</td>\n",
       "      <td>48</td>\n",
       "      <td>51.06383</td>\n",
       "    </tr>\n",
       "  </tbody>\n",
       "</table>\n",
       "</div>"
      ],
      "text/plain": [
       "  vine  total_reviews  5star_reviews  percent_5star\n",
       "0    Y             94             48       51.06383"
      ]
     },
     "execution_count": 49,
     "metadata": {},
     "output_type": "execute_result"
    }
   ],
   "source": [
    "y_nums_fin"
   ]
  },
  {
   "cell_type": "markdown",
   "id": "b64aeac6",
   "metadata": {},
   "source": [
    "## Vine = No"
   ]
  },
  {
   "cell_type": "code",
   "execution_count": 25,
   "id": "6c621ef4",
   "metadata": {
    "scrolled": false
   },
   "outputs": [
    {
     "name": "stderr",
     "output_type": "stream",
     "text": [
      "C:\\Users\\LaStella\\AppData\\Local\\Temp\\ipykernel_12784\\1436490038.py:2: UserWarning: Boolean Series key will be reindexed to match DataFrame index.\n",
      "  n_df = vine_df_helpful_gt50perc[vine_df['vine'] == \"N\"]\n"
     ]
    }
   ],
   "source": [
    "# Filter rows: vine == 'N'\n",
    "n_df = vine_df_helpful_gt50perc[vine_df['vine'] == \"N\"]"
   ]
  },
  {
   "cell_type": "code",
   "execution_count": 26,
   "id": "47a8ad39",
   "metadata": {},
   "outputs": [
    {
     "data": {
      "text/plain": [
       "vine\n",
       "N    39915\n",
       "Name: vine, dtype: int64"
      ]
     },
     "execution_count": 26,
     "metadata": {},
     "output_type": "execute_result"
    }
   ],
   "source": [
    "# Groupby to verify that all values meet criteria.\n",
    "n_df.groupby(['vine'])['vine'].count()"
   ]
  },
  {
   "cell_type": "markdown",
   "id": "710c9a33",
   "metadata": {},
   "source": [
    "### Vine = No: Get sum of total votes."
   ]
  },
  {
   "cell_type": "code",
   "execution_count": 27,
   "id": "bd322de9",
   "metadata": {},
   "outputs": [],
   "source": [
    "# https://stackoverflow.com/questions/10373660/converting-a-pandas-groupby-output-from-series-to-dataframe\n",
    "# df1.reset_index().groupby( [ \"Name\", \"City\"],as_index=False ).count()\n",
    "y_df_tot = n_df.reset_index().groupby( [ \"vine\"],as_index=False ).count()"
   ]
  },
  {
   "cell_type": "code",
   "execution_count": 28,
   "id": "44de342c",
   "metadata": {},
   "outputs": [],
   "source": [
    "# https://pandas.pydata.org/docs/reference/api/pandas.DataFrame.filter.html\n",
    "# select columns by name\n",
    "y_df_tot = y_df_tot.filter(items=['vine', 'total_votes'])"
   ]
  },
  {
   "cell_type": "code",
   "execution_count": 29,
   "id": "5d52394c",
   "metadata": {},
   "outputs": [
    {
     "data": {
      "text/html": [
       "<div>\n",
       "<style scoped>\n",
       "    .dataframe tbody tr th:only-of-type {\n",
       "        vertical-align: middle;\n",
       "    }\n",
       "\n",
       "    .dataframe tbody tr th {\n",
       "        vertical-align: top;\n",
       "    }\n",
       "\n",
       "    .dataframe thead th {\n",
       "        text-align: right;\n",
       "    }\n",
       "</style>\n",
       "<table border=\"1\" class=\"dataframe\">\n",
       "  <thead>\n",
       "    <tr style=\"text-align: right;\">\n",
       "      <th></th>\n",
       "      <th>vine</th>\n",
       "      <th>total_votes</th>\n",
       "    </tr>\n",
       "  </thead>\n",
       "  <tbody>\n",
       "    <tr>\n",
       "      <th>0</th>\n",
       "      <td>N</td>\n",
       "      <td>39915</td>\n",
       "    </tr>\n",
       "  </tbody>\n",
       "</table>\n",
       "</div>"
      ],
      "text/plain": [
       "  vine  total_votes\n",
       "0    N        39915"
      ]
     },
     "execution_count": 29,
     "metadata": {},
     "output_type": "execute_result"
    }
   ],
   "source": [
    "y_df_tot"
   ]
  },
  {
   "cell_type": "markdown",
   "id": "9ba873a5",
   "metadata": {},
   "source": [
    "### Vine = No: Get sum of 5-star votes."
   ]
  },
  {
   "cell_type": "code",
   "execution_count": 30,
   "id": "9ac6f635",
   "metadata": {},
   "outputs": [],
   "source": [
    "# Filter rows: star_rating = 5\n",
    "n_df_5star = n_df[n_df['star_rating'] == 5]"
   ]
  },
  {
   "cell_type": "code",
   "execution_count": 31,
   "id": "7d560438",
   "metadata": {},
   "outputs": [
    {
     "data": {
      "text/plain": [
       "star_rating\n",
       "5    15556\n",
       "Name: star_rating, dtype: int64"
      ]
     },
     "execution_count": 31,
     "metadata": {},
     "output_type": "execute_result"
    }
   ],
   "source": [
    "# Groupby to verify that all values meet criteria.\n",
    "n_df_5star.groupby(['star_rating'])['star_rating'].count()"
   ]
  },
  {
   "cell_type": "code",
   "execution_count": 32,
   "id": "14a23568",
   "metadata": {},
   "outputs": [],
   "source": [
    "# https://stackoverflow.com/questions/10373660/converting-a-pandas-groupby-output-from-series-to-dataframe\n",
    "# df1.reset_index().groupby( [ \"Name\", \"City\"],as_index=False ).count()\n",
    "n_df_5star = n_df_5star.reset_index().groupby( [ \"vine\"],as_index=False ).count()"
   ]
  },
  {
   "cell_type": "code",
   "execution_count": 33,
   "id": "f9e32fb2",
   "metadata": {},
   "outputs": [],
   "source": [
    "# https://pandas.pydata.org/docs/reference/api/pandas.DataFrame.filter.html\n",
    "# select columns by name\n",
    "n_df_5star = n_df_5star.filter(items=['vine', 'helpful_perc'])"
   ]
  },
  {
   "cell_type": "code",
   "execution_count": 34,
   "id": "187dd82c",
   "metadata": {},
   "outputs": [
    {
     "data": {
      "text/html": [
       "<div>\n",
       "<style scoped>\n",
       "    .dataframe tbody tr th:only-of-type {\n",
       "        vertical-align: middle;\n",
       "    }\n",
       "\n",
       "    .dataframe tbody tr th {\n",
       "        vertical-align: top;\n",
       "    }\n",
       "\n",
       "    .dataframe thead th {\n",
       "        text-align: right;\n",
       "    }\n",
       "</style>\n",
       "<table border=\"1\" class=\"dataframe\">\n",
       "  <thead>\n",
       "    <tr style=\"text-align: right;\">\n",
       "      <th></th>\n",
       "      <th>vine</th>\n",
       "      <th>helpful_perc</th>\n",
       "    </tr>\n",
       "  </thead>\n",
       "  <tbody>\n",
       "    <tr>\n",
       "      <th>0</th>\n",
       "      <td>N</td>\n",
       "      <td>15556</td>\n",
       "    </tr>\n",
       "  </tbody>\n",
       "</table>\n",
       "</div>"
      ],
      "text/plain": [
       "  vine  helpful_perc\n",
       "0    N         15556"
      ]
     },
     "execution_count": 34,
     "metadata": {},
     "output_type": "execute_result"
    }
   ],
   "source": [
    "n_df_5star"
   ]
  },
  {
   "cell_type": "markdown",
   "id": "b01beb21",
   "metadata": {},
   "source": [
    "### Vine = No: Merge dfs."
   ]
  },
  {
   "cell_type": "code",
   "execution_count": 35,
   "id": "26693375",
   "metadata": {},
   "outputs": [],
   "source": [
    "n_df_merge = pd.merge(y_df_tot, n_df_5star, on=\"vine\")"
   ]
  },
  {
   "cell_type": "code",
   "execution_count": 36,
   "id": "46573027",
   "metadata": {},
   "outputs": [
    {
     "data": {
      "text/html": [
       "<div>\n",
       "<style scoped>\n",
       "    .dataframe tbody tr th:only-of-type {\n",
       "        vertical-align: middle;\n",
       "    }\n",
       "\n",
       "    .dataframe tbody tr th {\n",
       "        vertical-align: top;\n",
       "    }\n",
       "\n",
       "    .dataframe thead th {\n",
       "        text-align: right;\n",
       "    }\n",
       "</style>\n",
       "<table border=\"1\" class=\"dataframe\">\n",
       "  <thead>\n",
       "    <tr style=\"text-align: right;\">\n",
       "      <th></th>\n",
       "      <th>vine</th>\n",
       "      <th>total_votes</th>\n",
       "      <th>helpful_perc</th>\n",
       "    </tr>\n",
       "  </thead>\n",
       "  <tbody>\n",
       "    <tr>\n",
       "      <th>0</th>\n",
       "      <td>N</td>\n",
       "      <td>39915</td>\n",
       "      <td>15556</td>\n",
       "    </tr>\n",
       "  </tbody>\n",
       "</table>\n",
       "</div>"
      ],
      "text/plain": [
       "  vine  total_votes  helpful_perc\n",
       "0    N        39915         15556"
      ]
     },
     "execution_count": 36,
     "metadata": {},
     "output_type": "execute_result"
    }
   ],
   "source": [
    "n_df_merge"
   ]
  },
  {
   "cell_type": "code",
   "execution_count": 37,
   "id": "8814a12b",
   "metadata": {},
   "outputs": [],
   "source": [
    "# Assign new calculated column: % of 5-star reviews.\n",
    "n_nums = n_df_merge.assign(percent_5star = (n_df_merge['helpful_perc'] / n_df_merge['total_votes']) * 100)"
   ]
  },
  {
   "cell_type": "code",
   "execution_count": 45,
   "id": "1b28f5ee",
   "metadata": {
    "scrolled": true
   },
   "outputs": [],
   "source": [
    "n_nums_fin = n_nums.rename(columns={\"total_votes\": \"total_reviews\", \"helpful_perc\": \"5star_reviews\"})"
   ]
  },
  {
   "cell_type": "code",
   "execution_count": 51,
   "id": "682d939d",
   "metadata": {},
   "outputs": [
    {
     "data": {
      "text/html": [
       "<div>\n",
       "<style scoped>\n",
       "    .dataframe tbody tr th:only-of-type {\n",
       "        vertical-align: middle;\n",
       "    }\n",
       "\n",
       "    .dataframe tbody tr th {\n",
       "        vertical-align: top;\n",
       "    }\n",
       "\n",
       "    .dataframe thead th {\n",
       "        text-align: right;\n",
       "    }\n",
       "</style>\n",
       "<table border=\"1\" class=\"dataframe\">\n",
       "  <thead>\n",
       "    <tr style=\"text-align: right;\">\n",
       "      <th></th>\n",
       "      <th>vine</th>\n",
       "      <th>total_reviews</th>\n",
       "      <th>5star_reviews</th>\n",
       "      <th>percent_5star</th>\n",
       "    </tr>\n",
       "  </thead>\n",
       "  <tbody>\n",
       "    <tr>\n",
       "      <th>0</th>\n",
       "      <td>N</td>\n",
       "      <td>39915</td>\n",
       "      <td>15556</td>\n",
       "      <td>38.972817</td>\n",
       "    </tr>\n",
       "  </tbody>\n",
       "</table>\n",
       "</div>"
      ],
      "text/plain": [
       "  vine  total_reviews  5star_reviews  percent_5star\n",
       "0    N          39915          15556      38.972817"
      ]
     },
     "execution_count": 51,
     "metadata": {},
     "output_type": "execute_result"
    }
   ],
   "source": [
    "n_nums_fin"
   ]
  },
  {
   "cell_type": "markdown",
   "id": "07c8cf45",
   "metadata": {},
   "source": [
    "## Display final totals and percentages."
   ]
  },
  {
   "cell_type": "code",
   "execution_count": 50,
   "id": "9667df77",
   "metadata": {},
   "outputs": [
    {
     "name": "stdout",
     "output_type": "stream",
     "text": [
      "  vine  total_reviews  5star_reviews  percent_5star\n",
      "0    Y             94             48       51.06383\n",
      "  vine  total_reviews  5star_reviews  percent_5star\n",
      "0    N          39915          15556      38.972817\n"
     ]
    }
   ],
   "source": [
    "print(y_nums_fin)\n",
    "print(n_nums_fin)"
   ]
  }
 ],
 "metadata": {
  "kernelspec": {
   "display_name": "PythonData",
   "language": "python",
   "name": "myenv"
  },
  "language_info": {
   "codemirror_mode": {
    "name": "ipython",
    "version": 3
   },
   "file_extension": ".py",
   "mimetype": "text/x-python",
   "name": "python",
   "nbconvert_exporter": "python",
   "pygments_lexer": "ipython3",
   "version": "3.9.12"
  }
 },
 "nbformat": 4,
 "nbformat_minor": 5
}
