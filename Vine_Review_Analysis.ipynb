{
 "cells": [
  {
   "cell_type": "code",
   "execution_count": 10,
   "id": "fbedccfc",
   "metadata": {},
   "outputs": [],
   "source": [
    "import pandas as pd"
   ]
  },
  {
   "cell_type": "code",
   "execution_count": 41,
   "id": "0b8d6c84",
   "metadata": {},
   "outputs": [
    {
     "data": {
      "text/html": [
       "<div>\n",
       "<style scoped>\n",
       "    .dataframe tbody tr th:only-of-type {\n",
       "        vertical-align: middle;\n",
       "    }\n",
       "\n",
       "    .dataframe tbody tr th {\n",
       "        vertical-align: top;\n",
       "    }\n",
       "\n",
       "    .dataframe thead th {\n",
       "        text-align: right;\n",
       "    }\n",
       "</style>\n",
       "<table border=\"1\" class=\"dataframe\">\n",
       "  <thead>\n",
       "    <tr style=\"text-align: right;\">\n",
       "      <th></th>\n",
       "      <th>review_id</th>\n",
       "      <th>star_rating</th>\n",
       "      <th>helpful_votes</th>\n",
       "      <th>total_votes</th>\n",
       "      <th>vine</th>\n",
       "      <th>verified_purchase</th>\n",
       "    </tr>\n",
       "  </thead>\n",
       "  <tbody>\n",
       "    <tr>\n",
       "      <th>0</th>\n",
       "      <td>RTIS3L2M1F5SM</td>\n",
       "      <td>5</td>\n",
       "      <td>0</td>\n",
       "      <td>0</td>\n",
       "      <td>N</td>\n",
       "      <td>Y</td>\n",
       "    </tr>\n",
       "    <tr>\n",
       "      <th>1</th>\n",
       "      <td>R1ZV7R40OLHKD</td>\n",
       "      <td>5</td>\n",
       "      <td>0</td>\n",
       "      <td>0</td>\n",
       "      <td>N</td>\n",
       "      <td>Y</td>\n",
       "    </tr>\n",
       "    <tr>\n",
       "      <th>2</th>\n",
       "      <td>R3BH071QLH8QMC</td>\n",
       "      <td>1</td>\n",
       "      <td>0</td>\n",
       "      <td>1</td>\n",
       "      <td>N</td>\n",
       "      <td>Y</td>\n",
       "    </tr>\n",
       "    <tr>\n",
       "      <th>3</th>\n",
       "      <td>R127K9NTSXA2YH</td>\n",
       "      <td>3</td>\n",
       "      <td>0</td>\n",
       "      <td>0</td>\n",
       "      <td>N</td>\n",
       "      <td>Y</td>\n",
       "    </tr>\n",
       "    <tr>\n",
       "      <th>4</th>\n",
       "      <td>R32ZWUXDJPW27Q</td>\n",
       "      <td>4</td>\n",
       "      <td>0</td>\n",
       "      <td>0</td>\n",
       "      <td>N</td>\n",
       "      <td>Y</td>\n",
       "    </tr>\n",
       "    <tr>\n",
       "      <th>...</th>\n",
       "      <td>...</td>\n",
       "      <td>...</td>\n",
       "      <td>...</td>\n",
       "      <td>...</td>\n",
       "      <td>...</td>\n",
       "      <td>...</td>\n",
       "    </tr>\n",
       "    <tr>\n",
       "      <th>1785992</th>\n",
       "      <td>RPC430LWZJ60T</td>\n",
       "      <td>5</td>\n",
       "      <td>1</td>\n",
       "      <td>1</td>\n",
       "      <td>N</td>\n",
       "      <td>N</td>\n",
       "    </tr>\n",
       "    <tr>\n",
       "      <th>1785993</th>\n",
       "      <td>R347MZT5FH6HRJ</td>\n",
       "      <td>5</td>\n",
       "      <td>2</td>\n",
       "      <td>2</td>\n",
       "      <td>N</td>\n",
       "      <td>N</td>\n",
       "    </tr>\n",
       "    <tr>\n",
       "      <th>1785994</th>\n",
       "      <td>RJ5BETZP0VIUS</td>\n",
       "      <td>1</td>\n",
       "      <td>0</td>\n",
       "      <td>2</td>\n",
       "      <td>N</td>\n",
       "      <td>N</td>\n",
       "    </tr>\n",
       "    <tr>\n",
       "      <th>1785995</th>\n",
       "      <td>R85QTDO2KZMGO</td>\n",
       "      <td>1</td>\n",
       "      <td>1</td>\n",
       "      <td>3</td>\n",
       "      <td>N</td>\n",
       "      <td>N</td>\n",
       "    </tr>\n",
       "    <tr>\n",
       "      <th>1785996</th>\n",
       "      <td>R2W36RZZZNTYWF</td>\n",
       "      <td>5</td>\n",
       "      <td>1</td>\n",
       "      <td>1</td>\n",
       "      <td>N</td>\n",
       "      <td>N</td>\n",
       "    </tr>\n",
       "  </tbody>\n",
       "</table>\n",
       "<p>1785997 rows × 6 columns</p>\n",
       "</div>"
      ],
      "text/plain": [
       "              review_id  star_rating  helpful_votes  total_votes vine  \\\n",
       "0         RTIS3L2M1F5SM            5              0            0    N   \n",
       "1         R1ZV7R40OLHKD            5              0            0    N   \n",
       "2        R3BH071QLH8QMC            1              0            1    N   \n",
       "3        R127K9NTSXA2YH            3              0            0    N   \n",
       "4        R32ZWUXDJPW27Q            4              0            0    N   \n",
       "...                 ...          ...            ...          ...  ...   \n",
       "1785992   RPC430LWZJ60T            5              1            1    N   \n",
       "1785993  R347MZT5FH6HRJ            5              2            2    N   \n",
       "1785994   RJ5BETZP0VIUS            1              0            2    N   \n",
       "1785995   R85QTDO2KZMGO            1              1            3    N   \n",
       "1785996  R2W36RZZZNTYWF            5              1            1    N   \n",
       "\n",
       "        verified_purchase  \n",
       "0                       Y  \n",
       "1                       Y  \n",
       "2                       Y  \n",
       "3                       Y  \n",
       "4                       Y  \n",
       "...                   ...  \n",
       "1785992                 N  \n",
       "1785993                 N  \n",
       "1785994                 N  \n",
       "1785995                 N  \n",
       "1785996                 N  \n",
       "\n",
       "[1785997 rows x 6 columns]"
      ]
     },
     "execution_count": 41,
     "metadata": {},
     "output_type": "execute_result"
    }
   ],
   "source": [
    "# 1. Create a df from the vine table from Amazon_Vine_Analysis.\n",
    "# vine_table.csv\n",
    "vine_data_to_load = \"vine_table.csv\"\n",
    "vine_df = pd.read_csv(vine_data_to_load)\n",
    "vine_df"
   ]
  },
  {
   "cell_type": "code",
   "execution_count": null,
   "id": "2ab5d660",
   "metadata": {},
   "outputs": [],
   "source": [
    "# Groupby to verify that values contain \"Y\"\n",
    "# vine_df.groupby(['vine'])['vine'].count()"
   ]
  },
  {
   "cell_type": "code",
   "execution_count": null,
   "id": "8b8cbd1c",
   "metadata": {},
   "outputs": [],
   "source": []
  },
  {
   "cell_type": "code",
   "execution_count": 42,
   "id": "98a54f8d",
   "metadata": {},
   "outputs": [],
   "source": [
    "# Filter rows.\n",
    "vine_df_gt20votes = vine_df[vine_df['total_votes'] >= 20]\n",
    "# vine_df_gt20votes"
   ]
  },
  {
   "cell_type": "code",
   "execution_count": 43,
   "id": "d0c8f950",
   "metadata": {},
   "outputs": [
    {
     "data": {
      "text/plain": [
       "total_votes\n",
       "20    4226\n",
       "21    3898\n",
       "22    3544\n",
       "23    3203\n",
       "24    2933\n",
       "Name: total_votes, dtype: int64"
      ]
     },
     "execution_count": 43,
     "metadata": {},
     "output_type": "execute_result"
    }
   ],
   "source": [
    "# Groupby to verify that all values meet criteria.\n",
    "vine_df_gt20votes.groupby(['total_votes'])['total_votes'].count().head()"
   ]
  },
  {
   "cell_type": "code",
   "execution_count": 45,
   "id": "9ac016a6",
   "metadata": {},
   "outputs": [],
   "source": [
    "# Assign new calculated column\n",
    "vine_df_helpful = vine_df_gt20votes.assign(helpful_perc = vine_df_gt20votes['helpful_votes'] / vine_df_gt20votes['total_votes'])\n",
    "# vine_df_helpful"
   ]
  },
  {
   "cell_type": "code",
   "execution_count": 46,
   "id": "7bfa6732",
   "metadata": {
    "scrolled": true
   },
   "outputs": [],
   "source": [
    "# Filter rows.\n",
    "vine_df_helpful_gt50perc = vine_df_helpful[vine_df_helpful['helpful_perc'] > 0.5]"
   ]
  },
  {
   "cell_type": "code",
   "execution_count": 47,
   "id": "368f0b85",
   "metadata": {},
   "outputs": [
    {
     "data": {
      "text/plain": [
       "helpful_perc\n",
       "0.504425    1\n",
       "0.505263    1\n",
       "0.505747    1\n",
       "0.506098    1\n",
       "0.506329    2\n",
       "Name: helpful_perc, dtype: int64"
      ]
     },
     "execution_count": 47,
     "metadata": {},
     "output_type": "execute_result"
    }
   ],
   "source": [
    "# Groupby to verify that all values meet criteria.\n",
    "vine_df_helpful_gt50perc.groupby(['helpful_perc'])['helpful_perc'].count().head()"
   ]
  },
  {
   "cell_type": "code",
   "execution_count": 49,
   "id": "3519dcba",
   "metadata": {},
   "outputs": [
    {
     "name": "stderr",
     "output_type": "stream",
     "text": [
      "C:\\Users\\LaStella\\AppData\\Local\\Temp\\ipykernel_14288\\9276695.py:2: UserWarning: Boolean Series key will be reindexed to match DataFrame index.\n",
      "  vine_df_vine_y = vine_df_helpful_gt50perc[vine_df['vine'] == \"Y\"]\n"
     ]
    },
    {
     "data": {
      "text/plain": [
       "vine\n",
       "Y    94\n",
       "Name: vine, dtype: int64"
      ]
     },
     "execution_count": 49,
     "metadata": {},
     "output_type": "execute_result"
    }
   ],
   "source": [
    "# Limit to rows where vine == 'Y'\n",
    "vine_df_vine_y = vine_df_helpful_gt50perc[vine_df['vine'] == \"Y\"]\n",
    "\n",
    "# Groupby to verify that all values meet criteria.\n",
    "vine_df_vine_y.groupby(['vine'])['vine'].count()"
   ]
  },
  {
   "cell_type": "code",
   "execution_count": 50,
   "id": "3d72dfbf",
   "metadata": {},
   "outputs": [
    {
     "name": "stderr",
     "output_type": "stream",
     "text": [
      "C:\\Users\\LaStella\\AppData\\Local\\Temp\\ipykernel_14288\\2158712868.py:2: UserWarning: Boolean Series key will be reindexed to match DataFrame index.\n",
      "  vine_df_vine_n = vine_df_helpful_gt50perc[vine_df['vine'] == \"N\"]\n"
     ]
    },
    {
     "data": {
      "text/plain": [
       "vine\n",
       "N    39915\n",
       "Name: vine, dtype: int64"
      ]
     },
     "execution_count": 50,
     "metadata": {},
     "output_type": "execute_result"
    }
   ],
   "source": [
    "# Limit to rows where vine == 'N'\n",
    "vine_df_vine_n = vine_df_helpful_gt50perc[vine_df['vine'] == \"N\"]\n",
    "\n",
    "# Groupby to verify that all values meet criteria.\n",
    "vine_df_vine_n.groupby(['vine'])['vine'].count()"
   ]
  },
  {
   "cell_type": "code",
   "execution_count": null,
   "id": "90a9e952",
   "metadata": {},
   "outputs": [],
   "source": []
  }
 ],
 "metadata": {
  "kernelspec": {
   "display_name": "PythonData",
   "language": "python",
   "name": "myenv"
  },
  "language_info": {
   "codemirror_mode": {
    "name": "ipython",
    "version": 3
   },
   "file_extension": ".py",
   "mimetype": "text/x-python",
   "name": "python",
   "nbconvert_exporter": "python",
   "pygments_lexer": "ipython3",
   "version": "3.9.12"
  }
 },
 "nbformat": 4,
 "nbformat_minor": 5
}
